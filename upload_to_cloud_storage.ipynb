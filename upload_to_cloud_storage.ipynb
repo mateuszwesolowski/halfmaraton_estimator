{
 "cells": [
  {
   "cell_type": "code",
   "execution_count": 1,
   "id": "2cf0c6b5",
   "metadata": {},
   "outputs": [
    {
     "name": "stdout",
     "output_type": "stream",
     "text": [
      "Uploaded halfmarathon_wroclaw_2023__final.csv to kursai/halfmarathon_wroclaw_2023__final.csv\n",
      "Uploaded halfmarathon_wroclaw_2024__final.csv to kursai/halfmarathon_wroclaw_2024__final.csv\n"
     ]
    }
   ],
   "source": [
    "import boto3\n",
    "\n",
    "def upload_to_s3(file_name, bucket, object_name=None):\n",
    "    s3_client = boto3.client('s3')\n",
    "    if object_name is None:\n",
    "        object_name = file_name\n",
    "    try:\n",
    "        s3_client.upload_file(file_name, bucket, object_name)\n",
    "        print(f\"Uploaded {file_name} to {bucket}/{object_name}\")\n",
    "    except Exception as e:\n",
    "        print(f\"Error uploading {file_name}: {e}\")\n",
    "\n",
    "# Example usage:\n",
    "bucket_name = 'kursai'  \n",
    "\n",
    "upload_to_s3('halfmarathon_wroclaw_2023__final.csv', bucket_name)\n",
    "upload_to_s3('halfmarathon_wroclaw_2024__final.csv', bucket_name)"
   ]
  }
 ],
 "metadata": {
  "kernelspec": {
   "display_name": "kursAI",
   "language": "python",
   "name": "python3"
  },
  "language_info": {
   "codemirror_mode": {
    "name": "ipython",
    "version": 3
   },
   "file_extension": ".py",
   "mimetype": "text/x-python",
   "name": "python",
   "nbconvert_exporter": "python",
   "pygments_lexer": "ipython3",
   "version": "3.11.11"
  }
 },
 "nbformat": 4,
 "nbformat_minor": 5
}
